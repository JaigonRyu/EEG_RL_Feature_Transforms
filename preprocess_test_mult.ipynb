{
 "cells": [
  {
   "cell_type": "code",
   "execution_count": 1,
   "metadata": {},
   "outputs": [],
   "source": [
    "import scipy.io\n",
    "import numpy as np\n",
    "import os\n",
    "import scipy.signal as signal\n",
    "import tqdm\n",
    "\n",
    "from scipy.signal import butter, lfilter"
   ]
  },
  {
   "cell_type": "code",
   "execution_count": 81,
   "metadata": {},
   "outputs": [],
   "source": [
    "def butter_bandpass_filter(lowcut, highcut, fs, order=4):\n",
    "    nyquist = 0.5 * fs\n",
    "\n",
    "    low = lowcut / nyquist\n",
    "    high = highcut / nyquist\n",
    "\n",
    "    b, a = butter(order, [low, high], btype='band')\n",
    "    return b, a\n",
    "\n",
    "def apply_filter(data, lowcut, highcut, fs, order=4):\n",
    "    b, a = butter_bandpass_filter(lowcut, highcut, fs, order)\n",
    "    return lfilter(b, a, data, axis=0)\n",
    "\n",
    "def load_data(path, lowcut= 8, highcut = 30) -> tuple:\n",
    "\n",
    "    data = scipy.io.loadmat(path)\n",
    "\n",
    "    # mentioned in bci comp docs\n",
    "    cnt = data['cnt'].astype(np.float32) * 0.1\n",
    "\n",
    "    fs = data['nfo']['fs'][0,0]\n",
    "\n",
    "    cnt = apply_filter(cnt, lowcut, highcut, fs)\n",
    "\n",
    "    mrk_pos = data['mrk']['pos'][0][0].flatten()\n",
    "    mrk_label = data['mrk']['y'][0][0].flatten()\n",
    "\n",
    "    cue_min, cue_max = 0.5, 2.5\n",
    "    cue_min_samples = int(cue_min * fs)\n",
    "    cue_max_samples = int(cue_max * fs)\n",
    "    window = cue_max_samples - cue_min_samples\n",
    "\n",
    "    num_trials = len(mrk_pos)\n",
    "    num_channels = cnt.shape[1]\n",
    "    \n",
    "    X= np.zeros((num_trials, num_channels, window))\n",
    "\n",
    "    for i, pos in enumerate(mrk_pos):\n",
    "        start, end = pos + cue_min_samples, pos + cue_max_samples\n",
    "\n",
    "        if end > cnt.shape[0]:\n",
    "            break\n",
    "\n",
    "        X[i] = cnt[start:end, :].T\n",
    "\n",
    "    \n",
    "    y = mrk_label[:X.shape[0]]\n",
    "\n",
    "    return (X, y, fs)\n"
   ]
  },
  {
   "cell_type": "code",
   "execution_count": 82,
   "metadata": {},
   "outputs": [],
   "source": [
    "\n",
    "file_path_parent = 'data/bca_3_4a'\n",
    "abs_path = os.path.abspath(file_path_parent)\n",
    "#print(abs_path)\n",
    "\n",
    "paths = []\n",
    "for root, _, files in os.walk(abs_path):\n",
    "\n",
    "    for file in files:\n",
    "        paths.append(os.path.join(root,file))\n"
   ]
  },
  {
   "cell_type": "code",
   "execution_count": 83,
   "metadata": {},
   "outputs": [
    {
     "name": "stdout",
     "output_type": "stream",
     "text": [
      "5\n"
     ]
    }
   ],
   "source": [
    "data_per_subject = []\n",
    "\n",
    "for path in paths:\n",
    "    \n",
    "    # tuple of (X, y, fs)\n",
    "    data = load_data(path)\n",
    "    data_per_subject.append(data) \n",
    "    \n",
    "print(len(data_per_subject))\n"
   ]
  },
  {
   "cell_type": "code",
   "execution_count": 102,
   "metadata": {},
   "outputs": [
    {
     "name": "stdout",
     "output_type": "stream",
     "text": [
      "(280, 118, 200)\n",
      "(280,)\n"
     ]
    }
   ],
   "source": [
    "import pandas as pd\n",
    "from mne.decoding import CSP\n",
    "from sklearn.discriminant_analysis import LinearDiscriminantAnalysis\n",
    "\n",
    "test_data = data_per_subject[0]\n",
    "X = test_data[0]\n",
    "print(X.shape)\n",
    "\n",
    "y = test_data[1]\n",
    "print(y.shape)"
   ]
  },
  {
   "cell_type": "code",
   "execution_count": null,
   "metadata": {},
   "outputs": [
    {
     "name": "stdout",
     "output_type": "stream",
     "text": [
      "(168, 118, 200)\n",
      "(168,)\n"
     ]
    }
   ],
   "source": [
    "valid_indices = ~np.isnan(y)\n",
    "\n",
    "x_train = X[valid_indices]\n",
    "y_train = y[valid_indices]\n",
    "\n",
    "#trials, channels, window\n",
    "print(x_train.shape)\n",
    "print(y_train.shape)"
   ]
  },
  {
   "cell_type": "code",
   "execution_count": null,
   "metadata": {},
   "outputs": [
    {
     "name": "stdout",
     "output_type": "stream",
     "text": [
      "Computing rank from data with rank=None\n",
      "    Using tolerance 2.4e+02 (2.2e-16 eps * 118 dim * 9.1e+15  max singular value)\n",
      "    Estimated rank (data): 118\n",
      "    data: rank 118 computed from 118 data channels with 0 projectors\n",
      "Reducing data rank from 118 -> 118\n",
      "Estimating class=1.0 covariance using EMPIRICAL\n",
      "Done.\n",
      "Estimating class=2.0 covariance using EMPIRICAL\n",
      "Done.\n",
      "Transformed CSP data shape: (168, 6)\n",
      "[[-1.89976316 -1.04884503 -1.4116893  -1.14594952 -1.31279263 -1.34156192]\n",
      " [-1.90123068 -1.39526849 -1.56683859 -1.64703025 -1.08244386 -1.20927387]\n",
      " [-1.28162918 -1.29046111 -1.28847043 -1.51150397 -0.98021213 -0.59321028]\n",
      " ...\n",
      " [-0.23205413 -0.31806312 -0.49579803 -0.32400989  0.1445882   0.14219327]\n",
      " [-0.38006421 -0.68336429 -0.20181244 -0.89976281 -0.27888951 -0.32642536]\n",
      " [-0.82478281 -0.80374008 -0.0699445  -0.77148281 -0.68607223 -0.48662077]]\n"
     ]
    }
   ],
   "source": [
    "csp_per_class = 6\n",
    "\n",
    "csp = CSP(n_components=6)\n",
    "\n",
    "X_csp = csp.fit_transform(x_train, y_train)\n",
    "\n",
    "print(\"Transformed CSP data shape:\", X_csp.shape)\n"
   ]
  },
  {
   "cell_type": "code",
   "execution_count": 116,
   "metadata": {},
   "outputs": [],
   "source": [
    "from sklearn.model_selection import train_test_split\n",
    "\n",
    "X_train, X_test, y_train, y_test = train_test_split(\n",
    "    X_csp, y_train, test_size=0.2, random_state=4,\n",
    ")\n"
   ]
  },
  {
   "cell_type": "code",
   "execution_count": 117,
   "metadata": {},
   "outputs": [
    {
     "name": "stdout",
     "output_type": "stream",
     "text": [
      "LDA Classification Accuracy: 88.24%\n"
     ]
    }
   ],
   "source": [
    "lda = LinearDiscriminantAnalysis()\n",
    "lda.fit(X_train, y_train)  # Train LDA\n",
    "y_pred = lda.predict(X_test)  # Predict\n",
    "\n",
    "# Calculate accuracy\n",
    "accuracy = np.mean(y_pred == y_test) * 100\n",
    "print(f\"LDA Classification Accuracy: {accuracy:.2f}%\")"
   ]
  },
  {
   "cell_type": "code",
   "execution_count": 119,
   "metadata": {},
   "outputs": [],
   "source": [
    "X_df = pd.DataFrame(X_csp)\n",
    "y_df = pd.DataFrame(y_train)"
   ]
  },
  {
   "cell_type": "code",
   "execution_count": null,
   "metadata": {},
   "outputs": [],
   "source": []
  }
 ],
 "metadata": {
  "kernelspec": {
   "display_name": "base",
   "language": "python",
   "name": "python3"
  },
  "language_info": {
   "codemirror_mode": {
    "name": "ipython",
    "version": 3
   },
   "file_extension": ".py",
   "mimetype": "text/x-python",
   "name": "python",
   "nbconvert_exporter": "python",
   "pygments_lexer": "ipython3",
   "version": "3.10.9"
  }
 },
 "nbformat": 4,
 "nbformat_minor": 2
}
