{
 "cells": [
  {
   "cell_type": "code",
   "execution_count": 1,
   "metadata": {},
   "outputs": [],
   "source": [
    "import mne\n",
    "from mne.preprocessing import ICA\n",
    "from mne.decoding import CSP\n",
    "import pandas as pd\n",
    "import numpy as np\n",
    "from sklearn.model_selection import train_test_split\n",
    "from sklearn.preprocessing import StandardScaler\n",
    "from sklearn.discriminant_analysis import LinearDiscriminantAnalysis\n",
    "from sklearn.metrics import accuracy_score"
   ]
  },
  {
   "cell_type": "markdown",
   "metadata": {},
   "source": [
    "<h1 style=\"color: red; font-weight: bold;\">Preprocessing</h1>"
   ]
  },
  {
   "cell_type": "markdown",
   "metadata": {},
   "source": [
    "## 1.) Loading data"
   ]
  },
  {
   "cell_type": "code",
   "execution_count": 2,
   "metadata": {},
   "outputs": [],
   "source": [
    "def load_data(subject, session=\"T\"):\n",
    "    \"\"\"\n",
    "    Loads data, includes all channels including EEG and EOG.\n",
    "    Args:\n",
    "        subject (int): number of the subject\n",
    "        session (str):T for training, E for evaluation\n",
    "    returns: \n",
    "        raw (RawGDF): an mne object containing the raw data\n",
    "        data_raw (list(list(float))): list containing each channel and corresponding data, channel x data samples \n",
    "        times (list): list containing each channel and corresponding times, channel x time samples\n",
    "    \"\"\"\n",
    "    \n",
    "    file_path = f\"/Users/kelokomesu/School/COGS 189/final_project/data/A0{subject}{session}.gdf\"\n",
    "    raw = mne.io.read_raw_gdf(file_path, preload=True, eog=[\"EOG-left\", \"EOG-central\", \"EOG-right\"], verbose=0)\n",
    "    data_raw, times = raw.get_data(return_times=True)\n",
    "    raw.rename_channels({'EEG-Fz': 'EEG-Fz','EEG-0': 'EEG-2','EEG-1': 'EEG-3','EEG-2': 'EEG-4','EEG-3': 'EEG-5','EEG-4': 'EEG-6','EEG-5': 'EEG-7','EEG-C3': 'EEG-C3','EEG-6': 'EEG-9','EEG-Cz': 'EEG-Cz','EEG-7': 'EEG-11','EEG-C4': 'EEG-C4','EEG-8': 'EEG-13','EEG-9': 'EEG-14','EEG-10': 'EEG-15','EEG-11': 'EEG-16','EEG-12': 'EEG-17','EEG-13': 'EEG-18','EEG-14': 'EEG-19','EEG-Pz': 'EEG-Pz','EEG-15': 'EEG-21','EEG-16': 'EEG-22','EOG-left': 'EOG-left','EOG-central': 'EOG-central','EOG-right': 'EOG-right'})\n",
    "\n",
    "    return raw, data_raw, times"
   ]
  },
  {
   "cell_type": "code",
   "execution_count": 3,
   "metadata": {},
   "outputs": [
    {
     "name": "stderr",
     "output_type": "stream",
     "text": [
      "/Users/kelokomesu/anaconda3/envs/mne/lib/python3.12/contextlib.py:144: RuntimeWarning: Channel names are not unique, found duplicates for: {'EEG'}. Applying running numbers for duplicates.\n",
      "  next(self.gen)\n"
     ]
    }
   ],
   "source": [
    "# test subject 1\n",
    "sub1_raw, sub1_data_raw, sub1_times = load_data(1)"
   ]
  },
  {
   "cell_type": "markdown",
   "metadata": {},
   "source": [
    "## 2.) Filter data"
   ]
  },
  {
   "cell_type": "code",
   "execution_count": 4,
   "metadata": {},
   "outputs": [],
   "source": [
    "def bandpass_filter(raw_data, bands):\n",
    "    \"\"\"\n",
    "    Creates bandpass filters for raw data\n",
    "    Args:\n",
    "        raw_data (list(list(floats))): raw data from a single subject\n",
    "        bands (list(tuples)): bands which need to be created\n",
    "    Returns:\n",
    "        filtered_data (list(RawGDF)): returns a list of RawGDF objects, each with their specified bandpass filter\n",
    "    \"\"\"\n",
    "\n",
    "    filtered_data = []\n",
    "    for band in bands:\n",
    "        filtered_data.append(raw_data.filter(l_freq=band[0], h_freq=band[1], verbose=0))\n",
    "        \n",
    "    return filtered_data"
   ]
  },
  {
   "cell_type": "code",
   "execution_count": 5,
   "metadata": {},
   "outputs": [
    {
     "name": "stderr",
     "output_type": "stream",
     "text": [
      "[Parallel(n_jobs=1)]: Done  17 tasks      | elapsed:    0.3s\n",
      "[Parallel(n_jobs=1)]: Done  17 tasks      | elapsed:    0.3s\n"
     ]
    }
   ],
   "source": [
    "# a list of RawGDF objects, each with thier own bandpass filter\n",
    "sub1_filtered_list = bandpass_filter(sub1_raw,[(0,5),(5,40)])"
   ]
  },
  {
   "cell_type": "markdown",
   "metadata": {},
   "source": [
    "## 3.) Artifact Detection and Removal (if needed)"
   ]
  },
  {
   "cell_type": "markdown",
   "metadata": {},
   "source": [
    "### Manual Artifact Detection and Removal"
   ]
  },
  {
   "cell_type": "code",
   "execution_count": 6,
   "metadata": {},
   "outputs": [],
   "source": [
    "def detect_artifact(raw_data, artifact):\n",
    "    \"\"\"\n",
    "    Produces a number of plots to check if the current dataframe has major artifacts\n",
    "    Args:\n",
    "        raw_data (RawGDF): RawGDF object\n",
    "        artifact (string): 'low freq drift'. 'power line noise', 'heartbeat', 'ocular'\n",
    "    Returns:\n",
    "        Plot based on specified artifact\n",
    "    \"\"\"\n",
    "    data = raw_data.copy()\n",
    "    if artifact == \"low freq drift\":\n",
    "        return data.plot(duration=60, remove_dc=False, verbose=0) #direct current offset set to False\n",
    "    elif artifact == \"power line noise\":\n",
    "        return data.plot_psd(fmax=100, verbose=0) #\n",
    "    elif artifact == \"eog\":\n",
    "        eog_epochs = mne.preprocessing.create_eog_epochs(data, baseline=(-0.5, -0.2)) #finds eog artifacts and extracts into an Epoch object in one step\n",
    "        eog_epochs.plot_image(combine=\"mean\")\n",
    "        # eog_epochs.average().plot_joint()"
   ]
  },
  {
   "cell_type": "code",
   "execution_count": null,
   "metadata": {},
   "outputs": [],
   "source": [
    "detect_artifact(sub1_filtered_list[1], \"eog\")"
   ]
  },
  {
   "cell_type": "markdown",
   "metadata": {},
   "source": [
    "### Automatic Artifact Detection and Removal"
   ]
  },
  {
   "cell_type": "code",
   "execution_count": null,
   "metadata": {},
   "outputs": [],
   "source": [
    "def do_ICA(filtered_data, n_components, remove):\n",
    "    data = filtered_data.copy()\n",
    "    ica = ICA(n_components=n_components, random_state=97, method=\"fastica\")\n",
    "    ica.fit(data)\n",
    "    ecg_idx, ecg_scores = ica.find_bads_ecg(data)\n",
    "    return ecg_idx, ecg_scores\n",
    "\n",
    "    # # Automatically detect eye-blink artifacts using EOG channels\n",
    "    # eog_indices, eog_scores = ica.find_bads_eog(raw)\n",
    "    # # Plot correlation with EOG signals\n",
    "    # ica.plot_scores(eog_scores)\n",
    "    # # Remove detected components\n",
    "    # if remove:\n",
    "    #     ica.exclude = eog_indices\n",
    "    #     # Apply ICA cleaning to EEG data\n",
    "    #     raw_cleaned = ica.apply(raw)\n",
    "    #     return raw_cleaned"
   ]
  },
  {
   "cell_type": "code",
   "execution_count": null,
   "metadata": {},
   "outputs": [],
   "source": [
    "do_ICA(sub1_filtered_list[0], 20, True)"
   ]
  },
  {
   "cell_type": "markdown",
   "metadata": {},
   "source": [
    "## 4.) Epoching"
   ]
  },
  {
   "cell_type": "code",
   "execution_count": 7,
   "metadata": {},
   "outputs": [],
   "source": [
    "def create_epoch(filtered_data, min, max):\n",
    "    \"\"\"\n",
    "    Creating epochs from filtered and artifact clean data\n",
    "    Args:\n",
    "        filtered_data (RawGDF): gdf object\n",
    "    Returns:\n",
    "        epochs (epoch): mne epoch object for this subject and filter\n",
    "    \"\"\"\n",
    "\n",
    "    events = mne.events_from_annotations(filtered_data, verbose=0)\n",
    "\n",
    "    event_dict = {\"rejected trial\":1,\"eye movements\":2,\"idling eeg (eyes open)\":3,\"idling eeg (eyes closed)\":4,\"new run\":5,\"start trial\":6,\"left\":7,\"right\":8,\"feet\":9,\"tongue\":10}\n",
    "    \n",
    "    epochs = mne.Epochs(\n",
    "        filtered_data.copy(), # raw filtered data\n",
    "        events[0], # event array\n",
    "        tmin=min, # time before event, baseline correction (seconds)\n",
    "        tmax=max, # time after event (seconds)\n",
    "        event_repeated=\"drop\", # what to do when multiple events have the same starting time\n",
    "        preload=True, # preload data into memory for faster processing\n",
    "        event_id=event_dict, # mapping event id to the actual event description\n",
    "        verbose=0\n",
    "        )\n",
    "    \n",
    "    return epochs"
   ]
  },
  {
   "cell_type": "code",
   "execution_count": 8,
   "metadata": {},
   "outputs": [
    {
     "name": "stdout",
     "output_type": "stream",
     "text": [
      "Used Annotations descriptions: ['1023', '1072', '276', '277', '32766', '768', '769', '770', '771', '772']\n",
      "Multiple event values for single event times found. Keeping the first occurrence and dropping all others.\n",
      "Not setting metadata\n",
      "585 matching events found\n",
      "Setting baseline interval to [-0.5, 0.0] s\n",
      "Applying baseline correction (mode: mean)\n",
      "0 projection items activated\n",
      "Using data from preloaded Raw for 585 events and 626 original time points ...\n",
      "1 bad epochs dropped\n",
      "Used Annotations descriptions: ['1023', '1072', '276', '277', '32766', '768', '769', '770', '771', '772']\n",
      "Multiple event values for single event times found. Keeping the first occurrence and dropping all others.\n",
      "Not setting metadata\n",
      "585 matching events found\n",
      "Setting baseline interval to [-0.5, 0.0] s\n",
      "Applying baseline correction (mode: mean)\n",
      "0 projection items activated\n",
      "Using data from preloaded Raw for 585 events and 626 original time points ...\n",
      "1 bad epochs dropped\n"
     ]
    }
   ],
   "source": [
    "sub1_epochs_list = [create_epoch(i, -0.5, 2) for i in sub1_filtered_list]"
   ]
  },
  {
   "cell_type": "markdown",
   "metadata": {},
   "source": [
    "<h1 style=\"color: red; font-weight: bold;\">Classification</h1>"
   ]
  },
  {
   "cell_type": "markdown",
   "metadata": {},
   "source": [
    "# 5.) Feature Extraction"
   ]
  },
  {
   "cell_type": "code",
   "execution_count": 8,
   "metadata": {},
   "outputs": [],
   "source": [
    "def do_CSP(epoch_data, n_components, labels):\n",
    "    \"\"\"\n",
    "    Extracts spatial features from epoched trails from specified classes. Features are also standardized.\n",
    "    Args:\n",
    "        epoch_data (epoch): mne epoch object\n",
    "    Returns:\n",
    "        dataset (list(list(int))): dataset as a np array with the last entry in each list as the label\n",
    "\n",
    "    \"\"\"\n",
    "    d = epoch_data.copy()\n",
    "\n",
    "    epoch_list = []\n",
    "    for label in labels:\n",
    "        epoch_list.append(d[label])\n",
    "    data = mne.concatenate_epochs(epoch_list, verbose=0)\n",
    "\n",
    "    X = data.pick(\"eeg\").get_data()\n",
    "    y = data.events[:,-1]\n",
    "\n",
    "    csp = CSP(n_components=n_components)\n",
    "    X_csp = csp.fit_transform(X, y)\n",
    "\n",
    "    dataset = np.hstack((X_csp, y.reshape(-1,1)))\n",
    "    return dataset\n"
   ]
  },
  {
   "cell_type": "code",
   "execution_count": 10,
   "metadata": {},
   "outputs": [
    {
     "name": "stdout",
     "output_type": "stream",
     "text": [
      "Not setting metadata\n",
      "144 matching events found\n",
      "Applying baseline correction (mode: mean)\n",
      "Computing rank from data with rank=None\n"
     ]
    },
    {
     "name": "stderr",
     "output_type": "stream",
     "text": [
      "/var/folders/ry/vqfl8s7s5l10hspc5lj10xth0000gn/T/ipykernel_35005/1821285707.py:15: RuntimeWarning: Concatenation of Annotations within Epochs is not supported yet. All annotations will be dropped.\n",
      "  data = mne.concatenate_epochs(epoch_list)\n"
     ]
    },
    {
     "name": "stdout",
     "output_type": "stream",
     "text": [
      "    Using tolerance 1.5e-05 (2.2e-16 eps * 22 dim * 3e+09  max singular value)\n",
      "    Estimated rank (data): 22\n",
      "    data: rank 22 computed from 22 data channels with 0 projectors\n",
      "Reducing data rank from 22 -> 22\n",
      "Estimating class=7 covariance using EMPIRICAL\n",
      "Done.\n",
      "Estimating class=8 covariance using EMPIRICAL\n",
      "Done.\n"
     ]
    }
   ],
   "source": [
    "sub1lr_dataset = do_CSP(sub1_epochs_list[1], 6, [\"left\", \"right\"])"
   ]
  },
  {
   "cell_type": "code",
   "execution_count": null,
   "metadata": {},
   "outputs": [],
   "source": [
    "# list of tuples (X data, y data) each tuple has one subject\n",
    "\n"
   ]
  },
  {
   "cell_type": "markdown",
   "metadata": {},
   "source": [
    "# 6.) Creating Training, Validation, and Test Datasets"
   ]
  },
  {
   "cell_type": "code",
   "execution_count": 9,
   "metadata": {},
   "outputs": [],
   "source": [
    "# normal train, val, test\n",
    "def create_tvt_datasets(dataset, trainr, valtestr):\n",
    "    \"\"\"\n",
    "    Creating test, validation, and test datasets for classification\n",
    "    Args:\n",
    "        epoch_data (epoch): epoch object of a single subject\n",
    "        trainr, valtestr (float): ratio of splits\n",
    "        label (list(str)): name of the class we are interested in for this dataset, \"left\", \"right\", \"feet\", \"toungue\"\n",
    "    \"\"\"\n",
    "\n",
    "    data = dataset.copy()\n",
    "\n",
    "    # Get the number of epochs\n",
    "    n_epochs = len(data)\n",
    "    \n",
    "    # Generate shuffled indices\n",
    "    indices = np.arange(n_epochs)\n",
    "    np.random.seed(42)\n",
    "    np.random.shuffle(indices)\n",
    "\n",
    "    # Compute split points\n",
    "    train_end = int(n_epochs * trainr)\n",
    "    val_end = train_end + int(n_epochs * valtestr)\n",
    "\n",
    "    # Split indices\n",
    "    train_indices = indices[:train_end]\n",
    "    val_indices = indices[train_end:val_end]\n",
    "    test_indices = indices[val_end:]\n",
    "\n",
    "    # Create subsets\n",
    "    epochs_train = data[train_indices]\n",
    "    epochs_val = data[val_indices]\n",
    "    epochs_test = data[test_indices]\n",
    "\n",
    "    return epochs_train, epochs_val, epochs_test"
   ]
  },
  {
   "cell_type": "code",
   "execution_count": 12,
   "metadata": {},
   "outputs": [],
   "source": [
    "sub1lr_train, sub1lr_val, sub1lr_test = create_tvt_datasets(sub1lr_dataset, 0.7, 0.15)"
   ]
  },
  {
   "cell_type": "markdown",
   "metadata": {},
   "source": [
    "# 7.) Classify"
   ]
  },
  {
   "cell_type": "code",
   "execution_count": 10,
   "metadata": {},
   "outputs": [],
   "source": [
    "def LDA_fit(train_data):\n",
    "    X_train = train_data[:,:-1]\n",
    "    y_train = train_data[:,-1]\n",
    "\n",
    "    # Scale data for LDA\n",
    "    scaler = StandardScaler()\n",
    "    scaler.fit(X_train)\n",
    "    X_train_scaled = scaler.transform(X_train)\n",
    "    # Initialize and train LDA classifier\n",
    "    lda = LinearDiscriminantAnalysis()\n",
    "    return lda.fit(X_train_scaled, y_train), scaler\n"
   ]
  },
  {
   "cell_type": "code",
   "execution_count": 14,
   "metadata": {},
   "outputs": [],
   "source": [
    "sub1_fitted_model, sub1_scaler = LDA_fit(sub1lr_train)"
   ]
  },
  {
   "cell_type": "code",
   "execution_count": 11,
   "metadata": {},
   "outputs": [],
   "source": [
    "def LDA_predict(model, X, scaler=None):\n",
    "    \"\"\"\n",
    "    Takes in a model and \n",
    "    \"\"\"\n",
    "    X_test = X[:,:-1]\n",
    "\n",
    "    # scale X test data from a fitted train scaler\n",
    "    X_test_scaled = scaler.transform(X_test)\n",
    "\n",
    "    # Predict the labels for test data\n",
    "    y_pred = model.predict(X_test_scaled)\n",
    "\n",
    "    return y_pred"
   ]
  },
  {
   "cell_type": "code",
   "execution_count": 16,
   "metadata": {},
   "outputs": [],
   "source": [
    "sub1_preds = LDA_predict(sub1_fitted_model, sub1lr_test, sub1_scaler)"
   ]
  },
  {
   "cell_type": "code",
   "execution_count": 17,
   "metadata": {},
   "outputs": [],
   "source": [
    "accuracy = accuracy_score(sub1_preds, sub1lr_test[:,-1])"
   ]
  },
  {
   "cell_type": "code",
   "execution_count": 18,
   "metadata": {},
   "outputs": [
    {
     "data": {
      "text/plain": [
       "0.8695652173913043"
      ]
     },
     "execution_count": 18,
     "metadata": {},
     "output_type": "execute_result"
    }
   ],
   "source": [
    "accuracy"
   ]
  },
  {
   "cell_type": "markdown",
   "metadata": {},
   "source": [
    "<h1 style=\"color: red; font-weight: bold;\">Classification</h1>"
   ]
  },
  {
   "cell_type": "code",
   "execution_count": 12,
   "metadata": {},
   "outputs": [],
   "source": [
    "def cross_subject_classification_pipeline(bsub, tsubs, lf, hf, emin, emax, csp_comp,):\n",
    "    \"\"\"\n",
    "    Complete cross subject classification and evaluation\n",
    "    Args:\n",
    "        subject_base (int): baseline subject for model to be trained on\n",
    "        subject_test (list(ints)): list of subjects to test base model against\n",
    "        lf (int): lower frequency to filter raw data\n",
    "        hf (int): high frequency to filter raw data\n",
    "        emin (int/float): time in seconds before cue, for baseline correction\n",
    "        emax (int/float): time in seconds after cue\n",
    "        csp_comp (int): number of csp components to extract\n",
    "\n",
    "    \"\"\"\n",
    "    # base subject load data\n",
    "    bsub_raw, bsub_data_raw, bsub_times = load_data(bsub)\n",
    "\n",
    "    # base subject filter data\n",
    "    bsub_filtered = bandpass_filter(bsub_raw,[(lf,hf)])\n",
    "\n",
    "    # base subject epoch data\n",
    "    bsub_epoch = create_epoch(bsub_filtered[0], emin, emax)\n",
    "\n",
    "    # base subject feature extraction \n",
    "    bsub_dataset = do_CSP(bsub_epoch, csp_comp, [\"left\", \"right\"])\n",
    "\n",
    "    # base subject create train val, test sets\n",
    "    bsub_train, bsublr_val, bsub_test = create_tvt_datasets(bsub_dataset, 0.7, 0.15)\n",
    "\n",
    "    # base subject fit LDA model\n",
    "    bsub_model, bsub_scaler, = LDA_fit(bsub_train)\n",
    "\n",
    "    # base subject LDA model predictions\n",
    "    bsub_preds = LDA_predict(bsub_model, bsub_train, bsub_scaler)\n",
    "\n",
    "    results = []\n",
    "\n",
    "    # base subject prediction on its own train test split\n",
    "    bsub_train_y = bsub_train[:,-1]\n",
    "    bsub_bsub_accuracy = accuracy_score(bsub_train_y, bsub_preds)\n",
    "\n",
    "    results.append(f\"bsub->bsub: {bsub_bsub_accuracy}\")\n",
    "\n",
    "    for tsub in tsubs:\n",
    "        print(f\"start: {tsub}\")\n",
    "        tsub_raw, _, _ = load_data(tsub)\n",
    "\n",
    "        # test subject filter data\n",
    "        tsub_filtered = bandpass_filter(tsub_raw,[(lf,hf)])\n",
    "\n",
    "        # test subject epoch data\n",
    "        tsub_epoch = create_epoch(tsub_filtered[0], emin, emax)\n",
    "\n",
    "        # test subject feature extraction \n",
    "        tsub_dataset = do_CSP(tsub_epoch, csp_comp, [\"left\", \"right\"])\n",
    "\n",
    "        # using the base subject model on the whole test subject dataset\n",
    "        tsub_preds = LDA_predict(bsub_model, tsub_dataset, bsub_scaler)\n",
    "        tsub_dataset_y = tsub_dataset[:,-1]\n",
    "        \n",
    "        results.append(f\"bsub->sub{tsub}:{accuracy_score(tsub_dataset_y, tsub_preds)}\")\n",
    "        print(f\"end: {tsub}\")\n",
    "    return results"
   ]
  },
  {
   "cell_type": "code",
   "execution_count": 50,
   "metadata": {},
   "outputs": [
    {
     "name": "stdout",
     "output_type": "stream",
     "text": [
      "Extracting EDF parameters from /Users/kelokomesu/School/COGS 189/final_project/data/A02T.gdf...\n",
      "GDF file detected\n",
      "Setting channel info structure...\n",
      "Could not determine channel type of the following channels, they will be set as EEG:\n",
      "EEG-Fz, EEG, EEG, EEG, EEG, EEG, EEG, EEG-C3, EEG, EEG-Cz, EEG, EEG-C4, EEG, EEG, EEG, EEG, EEG, EEG, EEG, EEG-Pz, EEG, EEG\n",
      "Creating raw.info structure...\n",
      "Reading 0 ... 677168  =      0.000 ...  2708.672 secs...\n"
     ]
    },
    {
     "name": "stderr",
     "output_type": "stream",
     "text": [
      "/Users/kelokomesu/anaconda3/envs/mne/lib/python3.12/contextlib.py:144: RuntimeWarning: Channel names are not unique, found duplicates for: {'EEG'}. Applying running numbers for duplicates.\n",
      "  next(self.gen)\n",
      "[Parallel(n_jobs=1)]: Done  17 tasks      | elapsed:    0.3s\n"
     ]
    },
    {
     "name": "stdout",
     "output_type": "stream",
     "text": [
      "Computing rank from data with rank=None\n"
     ]
    },
    {
     "name": "stderr",
     "output_type": "stream",
     "text": [
      "/var/folders/ry/vqfl8s7s5l10hspc5lj10xth0000gn/T/ipykernel_35005/2721646757.py:15: RuntimeWarning: Concatenation of Annotations within Epochs is not supported yet. All annotations will be dropped.\n",
      "  data = mne.concatenate_epochs(epoch_list, verbose=0)\n"
     ]
    },
    {
     "name": "stdout",
     "output_type": "stream",
     "text": [
      "    Using tolerance 6e-05 (2.2e-16 eps * 22 dim * 1.2e+10  max singular value)\n",
      "    Estimated rank (data): 22\n",
      "    data: rank 22 computed from 22 data channels with 0 projectors\n",
      "Reducing data rank from 22 -> 22\n",
      "Estimating class=7 covariance using EMPIRICAL\n",
      "Done.\n",
      "Estimating class=8 covariance using EMPIRICAL\n",
      "Done.\n",
      "start: 1\n",
      "Extracting EDF parameters from /Users/kelokomesu/School/COGS 189/final_project/data/A01T.gdf...\n",
      "GDF file detected\n",
      "Setting channel info structure...\n",
      "Could not determine channel type of the following channels, they will be set as EEG:\n",
      "EEG-Fz, EEG, EEG, EEG, EEG, EEG, EEG, EEG-C3, EEG, EEG-Cz, EEG, EEG-C4, EEG, EEG, EEG, EEG, EEG, EEG, EEG, EEG-Pz, EEG, EEG\n",
      "Creating raw.info structure...\n",
      "Reading 0 ... 672527  =      0.000 ...  2690.108 secs...\n"
     ]
    },
    {
     "name": "stderr",
     "output_type": "stream",
     "text": [
      "/Users/kelokomesu/anaconda3/envs/mne/lib/python3.12/contextlib.py:144: RuntimeWarning: Channel names are not unique, found duplicates for: {'EEG'}. Applying running numbers for duplicates.\n",
      "  next(self.gen)\n",
      "[Parallel(n_jobs=1)]: Done  17 tasks      | elapsed:    0.3s\n"
     ]
    },
    {
     "name": "stdout",
     "output_type": "stream",
     "text": [
      "Computing rank from data with rank=None\n"
     ]
    },
    {
     "name": "stderr",
     "output_type": "stream",
     "text": [
      "/var/folders/ry/vqfl8s7s5l10hspc5lj10xth0000gn/T/ipykernel_35005/2721646757.py:15: RuntimeWarning: Concatenation of Annotations within Epochs is not supported yet. All annotations will be dropped.\n",
      "  data = mne.concatenate_epochs(epoch_list, verbose=0)\n"
     ]
    },
    {
     "name": "stdout",
     "output_type": "stream",
     "text": [
      "    Using tolerance 5.9e-05 (2.2e-16 eps * 22 dim * 1.2e+10  max singular value)\n",
      "    Estimated rank (data): 22\n",
      "    data: rank 22 computed from 22 data channels with 0 projectors\n",
      "Reducing data rank from 22 -> 22\n",
      "Estimating class=7 covariance using EMPIRICAL\n",
      "Done.\n",
      "Estimating class=8 covariance using EMPIRICAL\n",
      "Done.\n",
      "end: 1\n",
      "start: 3\n",
      "Extracting EDF parameters from /Users/kelokomesu/School/COGS 189/final_project/data/A03T.gdf...\n",
      "GDF file detected\n",
      "Setting channel info structure...\n",
      "Could not determine channel type of the following channels, they will be set as EEG:\n",
      "EEG-Fz, EEG, EEG, EEG, EEG, EEG, EEG, EEG-C3, EEG, EEG-Cz, EEG, EEG-C4, EEG, EEG, EEG, EEG, EEG, EEG, EEG, EEG-Pz, EEG, EEG\n",
      "Creating raw.info structure...\n",
      "Reading 0 ... 660529  =      0.000 ...  2642.116 secs...\n"
     ]
    },
    {
     "name": "stderr",
     "output_type": "stream",
     "text": [
      "/Users/kelokomesu/anaconda3/envs/mne/lib/python3.12/contextlib.py:144: RuntimeWarning: Channel names are not unique, found duplicates for: {'EEG'}. Applying running numbers for duplicates.\n",
      "  next(self.gen)\n",
      "[Parallel(n_jobs=1)]: Done  17 tasks      | elapsed:    0.3s\n"
     ]
    },
    {
     "name": "stdout",
     "output_type": "stream",
     "text": [
      "Computing rank from data with rank=None\n"
     ]
    },
    {
     "name": "stderr",
     "output_type": "stream",
     "text": [
      "/var/folders/ry/vqfl8s7s5l10hspc5lj10xth0000gn/T/ipykernel_35005/2721646757.py:15: RuntimeWarning: Concatenation of Annotations within Epochs is not supported yet. All annotations will be dropped.\n",
      "  data = mne.concatenate_epochs(epoch_list, verbose=0)\n"
     ]
    },
    {
     "name": "stdout",
     "output_type": "stream",
     "text": [
      "    Using tolerance 7.6e-05 (2.2e-16 eps * 22 dim * 1.5e+10  max singular value)\n",
      "    Estimated rank (data): 22\n",
      "    data: rank 22 computed from 22 data channels with 0 projectors\n",
      "Reducing data rank from 22 -> 22\n",
      "Estimating class=7 covariance using EMPIRICAL\n",
      "Done.\n",
      "Estimating class=8 covariance using EMPIRICAL\n",
      "Done.\n",
      "end: 3\n",
      "start: 5\n",
      "Extracting EDF parameters from /Users/kelokomesu/School/COGS 189/final_project/data/A05T.gdf...\n",
      "GDF file detected\n",
      "Setting channel info structure...\n",
      "Could not determine channel type of the following channels, they will be set as EEG:\n",
      "EEG-Fz, EEG, EEG, EEG, EEG, EEG, EEG, EEG-C3, EEG, EEG-Cz, EEG, EEG-C4, EEG, EEG, EEG, EEG, EEG, EEG, EEG, EEG-Pz, EEG, EEG\n",
      "Creating raw.info structure...\n",
      "Reading 0 ... 686119  =      0.000 ...  2744.476 secs...\n"
     ]
    },
    {
     "name": "stderr",
     "output_type": "stream",
     "text": [
      "/Users/kelokomesu/anaconda3/envs/mne/lib/python3.12/contextlib.py:144: RuntimeWarning: Channel names are not unique, found duplicates for: {'EEG'}. Applying running numbers for duplicates.\n",
      "  next(self.gen)\n",
      "[Parallel(n_jobs=1)]: Done  17 tasks      | elapsed:    0.3s\n"
     ]
    },
    {
     "name": "stdout",
     "output_type": "stream",
     "text": [
      "Computing rank from data with rank=None\n"
     ]
    },
    {
     "name": "stderr",
     "output_type": "stream",
     "text": [
      "/var/folders/ry/vqfl8s7s5l10hspc5lj10xth0000gn/T/ipykernel_35005/2721646757.py:15: RuntimeWarning: Concatenation of Annotations within Epochs is not supported yet. All annotations will be dropped.\n",
      "  data = mne.concatenate_epochs(epoch_list, verbose=0)\n"
     ]
    },
    {
     "name": "stdout",
     "output_type": "stream",
     "text": [
      "    Using tolerance 5.3e-05 (2.2e-16 eps * 22 dim * 1.1e+10  max singular value)\n",
      "    Estimated rank (data): 22\n",
      "    data: rank 22 computed from 22 data channels with 0 projectors\n",
      "Reducing data rank from 22 -> 22\n",
      "Estimating class=7 covariance using EMPIRICAL\n",
      "Done.\n",
      "Estimating class=8 covariance using EMPIRICAL\n",
      "Done.\n",
      "end: 5\n",
      "start: 6\n",
      "Extracting EDF parameters from /Users/kelokomesu/School/COGS 189/final_project/data/A06T.gdf...\n",
      "GDF file detected\n",
      "Setting channel info structure...\n",
      "Could not determine channel type of the following channels, they will be set as EEG:\n",
      "EEG-Fz, EEG, EEG, EEG, EEG, EEG, EEG, EEG-C3, EEG, EEG-Cz, EEG, EEG-C4, EEG, EEG, EEG, EEG, EEG, EEG, EEG, EEG-Pz, EEG, EEG\n",
      "Creating raw.info structure...\n",
      "Reading 0 ... 678979  =      0.000 ...  2715.916 secs...\n"
     ]
    },
    {
     "name": "stderr",
     "output_type": "stream",
     "text": [
      "/Users/kelokomesu/anaconda3/envs/mne/lib/python3.12/contextlib.py:144: RuntimeWarning: Channel names are not unique, found duplicates for: {'EEG'}. Applying running numbers for duplicates.\n",
      "  next(self.gen)\n",
      "[Parallel(n_jobs=1)]: Done  17 tasks      | elapsed:    0.3s\n"
     ]
    },
    {
     "name": "stdout",
     "output_type": "stream",
     "text": [
      "Computing rank from data with rank=None\n"
     ]
    },
    {
     "name": "stderr",
     "output_type": "stream",
     "text": [
      "/var/folders/ry/vqfl8s7s5l10hspc5lj10xth0000gn/T/ipykernel_35005/2721646757.py:15: RuntimeWarning: Concatenation of Annotations within Epochs is not supported yet. All annotations will be dropped.\n",
      "  data = mne.concatenate_epochs(epoch_list, verbose=0)\n"
     ]
    },
    {
     "name": "stdout",
     "output_type": "stream",
     "text": [
      "    Using tolerance 8.1e-05 (2.2e-16 eps * 22 dim * 1.7e+10  max singular value)\n",
      "    Estimated rank (data): 22\n",
      "    data: rank 22 computed from 22 data channels with 0 projectors\n",
      "Reducing data rank from 22 -> 22\n",
      "Estimating class=7 covariance using EMPIRICAL\n",
      "Done.\n",
      "Estimating class=8 covariance using EMPIRICAL\n",
      "Done.\n",
      "end: 6\n",
      "start: 7\n",
      "Extracting EDF parameters from /Users/kelokomesu/School/COGS 189/final_project/data/A07T.gdf...\n",
      "GDF file detected\n",
      "Setting channel info structure...\n",
      "Could not determine channel type of the following channels, they will be set as EEG:\n",
      "EEG-Fz, EEG, EEG, EEG, EEG, EEG, EEG, EEG-C3, EEG, EEG-Cz, EEG, EEG-C4, EEG, EEG, EEG, EEG, EEG, EEG, EEG, EEG-Pz, EEG, EEG\n",
      "Creating raw.info structure...\n",
      "Reading 0 ... 681070  =      0.000 ...  2724.280 secs...\n"
     ]
    },
    {
     "name": "stderr",
     "output_type": "stream",
     "text": [
      "/Users/kelokomesu/anaconda3/envs/mne/lib/python3.12/contextlib.py:144: RuntimeWarning: Channel names are not unique, found duplicates for: {'EEG'}. Applying running numbers for duplicates.\n",
      "  next(self.gen)\n",
      "[Parallel(n_jobs=1)]: Done  17 tasks      | elapsed:    0.3s\n"
     ]
    },
    {
     "name": "stdout",
     "output_type": "stream",
     "text": [
      "Computing rank from data with rank=None\n"
     ]
    },
    {
     "name": "stderr",
     "output_type": "stream",
     "text": [
      "/var/folders/ry/vqfl8s7s5l10hspc5lj10xth0000gn/T/ipykernel_35005/2721646757.py:15: RuntimeWarning: Concatenation of Annotations within Epochs is not supported yet. All annotations will be dropped.\n",
      "  data = mne.concatenate_epochs(epoch_list, verbose=0)\n"
     ]
    },
    {
     "name": "stdout",
     "output_type": "stream",
     "text": [
      "    Using tolerance 5.2e-05 (2.2e-16 eps * 22 dim * 1.1e+10  max singular value)\n",
      "    Estimated rank (data): 22\n",
      "    data: rank 22 computed from 22 data channels with 0 projectors\n",
      "Reducing data rank from 22 -> 22\n",
      "Estimating class=7 covariance using EMPIRICAL\n",
      "Done.\n",
      "Estimating class=8 covariance using EMPIRICAL\n",
      "Done.\n",
      "end: 7\n",
      "start: 8\n",
      "Extracting EDF parameters from /Users/kelokomesu/School/COGS 189/final_project/data/A08T.gdf...\n",
      "GDF file detected\n",
      "Setting channel info structure...\n",
      "Could not determine channel type of the following channels, they will be set as EEG:\n",
      "EEG-Fz, EEG, EEG, EEG, EEG, EEG, EEG, EEG-C3, EEG, EEG-Cz, EEG, EEG-C4, EEG, EEG, EEG, EEG, EEG, EEG, EEG, EEG-Pz, EEG, EEG\n",
      "Creating raw.info structure...\n",
      "Reading 0 ... 675269  =      0.000 ...  2701.076 secs...\n"
     ]
    },
    {
     "name": "stderr",
     "output_type": "stream",
     "text": [
      "/Users/kelokomesu/anaconda3/envs/mne/lib/python3.12/contextlib.py:144: RuntimeWarning: Channel names are not unique, found duplicates for: {'EEG'}. Applying running numbers for duplicates.\n",
      "  next(self.gen)\n",
      "[Parallel(n_jobs=1)]: Done  17 tasks      | elapsed:    0.3s\n"
     ]
    },
    {
     "name": "stdout",
     "output_type": "stream",
     "text": [
      "Computing rank from data with rank=None\n"
     ]
    },
    {
     "name": "stderr",
     "output_type": "stream",
     "text": [
      "/var/folders/ry/vqfl8s7s5l10hspc5lj10xth0000gn/T/ipykernel_35005/2721646757.py:15: RuntimeWarning: Concatenation of Annotations within Epochs is not supported yet. All annotations will be dropped.\n",
      "  data = mne.concatenate_epochs(epoch_list, verbose=0)\n"
     ]
    },
    {
     "name": "stdout",
     "output_type": "stream",
     "text": [
      "    Using tolerance 9.2e-05 (2.2e-16 eps * 22 dim * 1.9e+10  max singular value)\n",
      "    Estimated rank (data): 22\n",
      "    data: rank 22 computed from 22 data channels with 0 projectors\n",
      "Reducing data rank from 22 -> 22\n",
      "Estimating class=7 covariance using EMPIRICAL\n",
      "Done.\n",
      "Estimating class=8 covariance using EMPIRICAL\n",
      "Done.\n",
      "end: 8\n",
      "start: 9\n",
      "Extracting EDF parameters from /Users/kelokomesu/School/COGS 189/final_project/data/A09T.gdf...\n",
      "GDF file detected\n",
      "Setting channel info structure...\n",
      "Could not determine channel type of the following channels, they will be set as EEG:\n",
      "EEG-Fz, EEG, EEG, EEG, EEG, EEG, EEG, EEG-C3, EEG, EEG-Cz, EEG, EEG-C4, EEG, EEG, EEG, EEG, EEG, EEG, EEG, EEG-Pz, EEG, EEG\n",
      "Creating raw.info structure...\n",
      "Reading 0 ... 673327  =      0.000 ...  2693.308 secs...\n"
     ]
    },
    {
     "name": "stderr",
     "output_type": "stream",
     "text": [
      "/Users/kelokomesu/anaconda3/envs/mne/lib/python3.12/contextlib.py:144: RuntimeWarning: Channel names are not unique, found duplicates for: {'EEG'}. Applying running numbers for duplicates.\n",
      "  next(self.gen)\n",
      "[Parallel(n_jobs=1)]: Done  17 tasks      | elapsed:    0.3s\n"
     ]
    },
    {
     "name": "stdout",
     "output_type": "stream",
     "text": [
      "Computing rank from data with rank=None\n"
     ]
    },
    {
     "name": "stderr",
     "output_type": "stream",
     "text": [
      "/var/folders/ry/vqfl8s7s5l10hspc5lj10xth0000gn/T/ipykernel_35005/2721646757.py:15: RuntimeWarning: Concatenation of Annotations within Epochs is not supported yet. All annotations will be dropped.\n",
      "  data = mne.concatenate_epochs(epoch_list, verbose=0)\n"
     ]
    },
    {
     "name": "stdout",
     "output_type": "stream",
     "text": [
      "    Using tolerance 9.2e-05 (2.2e-16 eps * 22 dim * 1.9e+10  max singular value)\n",
      "    Estimated rank (data): 22\n",
      "    data: rank 22 computed from 22 data channels with 0 projectors\n",
      "Reducing data rank from 22 -> 22\n",
      "Estimating class=7 covariance using EMPIRICAL\n",
      "Done.\n",
      "Estimating class=8 covariance using EMPIRICAL\n",
      "Done.\n",
      "end: 9\n"
     ]
    },
    {
     "data": {
      "text/plain": [
       "['bsub->bsub0.76',\n",
       " 'bsub->sub1:0.3194444444444444',\n",
       " 'bsub->sub3:0.6319444444444444',\n",
       " 'bsub->sub5:0.4027777777777778',\n",
       " 'bsub->sub6:0.6388888888888888',\n",
       " 'bsub->sub7:0.7222222222222222',\n",
       " 'bsub->sub8:0.7708333333333334',\n",
       " 'bsub->sub9:0.2916666666666667']"
      ]
     },
     "execution_count": 50,
     "metadata": {},
     "output_type": "execute_result"
    }
   ],
   "source": [
    "cross_subject_classification_pipeline(\n",
    "    bsub=2,\n",
    "    tsubs=[1,3,5,6,7,8,9],\n",
    "    lf=4,\n",
    "    hf=50,\n",
    "    emin=-1,\n",
    "    emax=4,\n",
    "    csp_comp=6\n",
    ")"
   ]
  },
  {
   "cell_type": "markdown",
   "metadata": {},
   "source": [
    "# Formatting Data for RL"
   ]
  },
  {
   "cell_type": "code",
   "execution_count": 13,
   "metadata": {},
   "outputs": [],
   "source": [
    "def format_for_jacob(bsub):\n",
    "\n",
    "    # base subject load data\n",
    "    bsub_raw, _, _ = load_data(bsub)\n",
    "\n",
    "    # base subject filter data\n",
    "    bsub_filtered = bandpass_filter(bsub_raw,[(4,40)])\n",
    "\n",
    "    # base subject epoch data\n",
    "    bsub_epoch = create_epoch(bsub_filtered[0], -1, 5)\n",
    "\n",
    "    # base subject feature extraction \n",
    "    bsub_dataset = do_CSP(bsub_epoch, 6, [\"left\", \"right\"])\n",
    "\n",
    "    return [bsub_dataset[:,:-1], bsub_dataset[:,-1]]\n"
   ]
  },
  {
   "cell_type": "code",
   "execution_count": 14,
   "metadata": {},
   "outputs": [
    {
     "name": "stderr",
     "output_type": "stream",
     "text": [
      "/Users/kelokomesu/anaconda3/envs/mne/lib/python3.12/contextlib.py:144: RuntimeWarning: Channel names are not unique, found duplicates for: {'EEG'}. Applying running numbers for duplicates.\n",
      "  next(self.gen)\n",
      "[Parallel(n_jobs=1)]: Done  17 tasks      | elapsed:    0.3s\n"
     ]
    },
    {
     "name": "stdout",
     "output_type": "stream",
     "text": [
      "Computing rank from data with rank=None\n"
     ]
    },
    {
     "name": "stderr",
     "output_type": "stream",
     "text": [
      "/var/folders/ry/vqfl8s7s5l10hspc5lj10xth0000gn/T/ipykernel_38089/2721646757.py:15: RuntimeWarning: Concatenation of Annotations within Epochs is not supported yet. All annotations will be dropped.\n",
      "  data = mne.concatenate_epochs(epoch_list, verbose=0)\n"
     ]
    },
    {
     "name": "stdout",
     "output_type": "stream",
     "text": [
      "    Using tolerance 6.5e-05 (2.2e-16 eps * 22 dim * 1.3e+10  max singular value)\n",
      "    Estimated rank (data): 22\n",
      "    data: rank 22 computed from 22 data channels with 0 projectors\n",
      "Reducing data rank from 22 -> 22\n",
      "Estimating class=7 covariance using EMPIRICAL\n",
      "Done.\n",
      "Estimating class=8 covariance using EMPIRICAL\n",
      "Done.\n"
     ]
    },
    {
     "name": "stderr",
     "output_type": "stream",
     "text": [
      "/Users/kelokomesu/anaconda3/envs/mne/lib/python3.12/contextlib.py:144: RuntimeWarning: Channel names are not unique, found duplicates for: {'EEG'}. Applying running numbers for duplicates.\n",
      "  next(self.gen)\n",
      "[Parallel(n_jobs=1)]: Done  17 tasks      | elapsed:    0.3s\n"
     ]
    },
    {
     "name": "stdout",
     "output_type": "stream",
     "text": [
      "Computing rank from data with rank=None\n"
     ]
    },
    {
     "name": "stderr",
     "output_type": "stream",
     "text": [
      "/var/folders/ry/vqfl8s7s5l10hspc5lj10xth0000gn/T/ipykernel_38089/2721646757.py:15: RuntimeWarning: Concatenation of Annotations within Epochs is not supported yet. All annotations will be dropped.\n",
      "  data = mne.concatenate_epochs(epoch_list, verbose=0)\n"
     ]
    },
    {
     "name": "stdout",
     "output_type": "stream",
     "text": [
      "    Using tolerance 6.5e-05 (2.2e-16 eps * 22 dim * 1.3e+10  max singular value)\n",
      "    Estimated rank (data): 22\n",
      "    data: rank 22 computed from 22 data channels with 0 projectors\n",
      "Reducing data rank from 22 -> 22\n",
      "Estimating class=7 covariance using EMPIRICAL\n",
      "Done.\n",
      "Estimating class=8 covariance using EMPIRICAL\n",
      "Done.\n"
     ]
    },
    {
     "name": "stderr",
     "output_type": "stream",
     "text": [
      "/Users/kelokomesu/anaconda3/envs/mne/lib/python3.12/contextlib.py:144: RuntimeWarning: Channel names are not unique, found duplicates for: {'EEG'}. Applying running numbers for duplicates.\n",
      "  next(self.gen)\n",
      "[Parallel(n_jobs=1)]: Done  17 tasks      | elapsed:    0.3s\n"
     ]
    },
    {
     "name": "stdout",
     "output_type": "stream",
     "text": [
      "Computing rank from data with rank=None\n"
     ]
    },
    {
     "name": "stderr",
     "output_type": "stream",
     "text": [
      "/var/folders/ry/vqfl8s7s5l10hspc5lj10xth0000gn/T/ipykernel_38089/2721646757.py:15: RuntimeWarning: Concatenation of Annotations within Epochs is not supported yet. All annotations will be dropped.\n",
      "  data = mne.concatenate_epochs(epoch_list, verbose=0)\n"
     ]
    },
    {
     "name": "stdout",
     "output_type": "stream",
     "text": [
      "    Using tolerance 6.8e-05 (2.2e-16 eps * 22 dim * 1.4e+10  max singular value)\n",
      "    Estimated rank (data): 22\n",
      "    data: rank 22 computed from 22 data channels with 0 projectors\n",
      "Reducing data rank from 22 -> 22\n",
      "Estimating class=7 covariance using EMPIRICAL\n",
      "Done.\n",
      "Estimating class=8 covariance using EMPIRICAL\n",
      "Done.\n"
     ]
    },
    {
     "name": "stderr",
     "output_type": "stream",
     "text": [
      "/Users/kelokomesu/anaconda3/envs/mne/lib/python3.12/contextlib.py:144: RuntimeWarning: Channel names are not unique, found duplicates for: {'EEG'}. Applying running numbers for duplicates.\n",
      "  next(self.gen)\n",
      "[Parallel(n_jobs=1)]: Done  17 tasks      | elapsed:    0.3s\n"
     ]
    },
    {
     "name": "stdout",
     "output_type": "stream",
     "text": [
      "Computing rank from data with rank=None\n"
     ]
    },
    {
     "name": "stderr",
     "output_type": "stream",
     "text": [
      "/var/folders/ry/vqfl8s7s5l10hspc5lj10xth0000gn/T/ipykernel_38089/2721646757.py:15: RuntimeWarning: Concatenation of Annotations within Epochs is not supported yet. All annotations will be dropped.\n",
      "  data = mne.concatenate_epochs(epoch_list, verbose=0)\n"
     ]
    },
    {
     "name": "stdout",
     "output_type": "stream",
     "text": [
      "    Using tolerance 6.8e-05 (2.2e-16 eps * 22 dim * 1.4e+10  max singular value)\n",
      "    Estimated rank (data): 22\n",
      "    data: rank 22 computed from 22 data channels with 0 projectors\n",
      "Reducing data rank from 22 -> 22\n",
      "Estimating class=7 covariance using EMPIRICAL\n",
      "Done.\n",
      "Estimating class=8 covariance using EMPIRICAL\n",
      "Done.\n"
     ]
    },
    {
     "name": "stderr",
     "output_type": "stream",
     "text": [
      "/Users/kelokomesu/anaconda3/envs/mne/lib/python3.12/contextlib.py:144: RuntimeWarning: Channel names are not unique, found duplicates for: {'EEG'}. Applying running numbers for duplicates.\n",
      "  next(self.gen)\n",
      "[Parallel(n_jobs=1)]: Done  17 tasks      | elapsed:    0.3s\n"
     ]
    },
    {
     "name": "stdout",
     "output_type": "stream",
     "text": [
      "Computing rank from data with rank=None\n"
     ]
    },
    {
     "name": "stderr",
     "output_type": "stream",
     "text": [
      "/var/folders/ry/vqfl8s7s5l10hspc5lj10xth0000gn/T/ipykernel_38089/2721646757.py:15: RuntimeWarning: Concatenation of Annotations within Epochs is not supported yet. All annotations will be dropped.\n",
      "  data = mne.concatenate_epochs(epoch_list, verbose=0)\n"
     ]
    },
    {
     "name": "stdout",
     "output_type": "stream",
     "text": [
      "    Using tolerance 8.2e-05 (2.2e-16 eps * 22 dim * 1.7e+10  max singular value)\n",
      "    Estimated rank (data): 22\n",
      "    data: rank 22 computed from 22 data channels with 0 projectors\n",
      "Reducing data rank from 22 -> 22\n",
      "Estimating class=7 covariance using EMPIRICAL\n",
      "Done.\n",
      "Estimating class=8 covariance using EMPIRICAL\n",
      "Done.\n"
     ]
    },
    {
     "name": "stderr",
     "output_type": "stream",
     "text": [
      "/Users/kelokomesu/anaconda3/envs/mne/lib/python3.12/contextlib.py:144: RuntimeWarning: Channel names are not unique, found duplicates for: {'EEG'}. Applying running numbers for duplicates.\n",
      "  next(self.gen)\n",
      "[Parallel(n_jobs=1)]: Done  17 tasks      | elapsed:    0.3s\n"
     ]
    },
    {
     "name": "stdout",
     "output_type": "stream",
     "text": [
      "Computing rank from data with rank=None\n"
     ]
    },
    {
     "name": "stderr",
     "output_type": "stream",
     "text": [
      "/var/folders/ry/vqfl8s7s5l10hspc5lj10xth0000gn/T/ipykernel_38089/2721646757.py:15: RuntimeWarning: Concatenation of Annotations within Epochs is not supported yet. All annotations will be dropped.\n",
      "  data = mne.concatenate_epochs(epoch_list, verbose=0)\n"
     ]
    },
    {
     "name": "stdout",
     "output_type": "stream",
     "text": [
      "    Using tolerance 8.2e-05 (2.2e-16 eps * 22 dim * 1.7e+10  max singular value)\n",
      "    Estimated rank (data): 22\n",
      "    data: rank 22 computed from 22 data channels with 0 projectors\n",
      "Reducing data rank from 22 -> 22\n",
      "Estimating class=7 covariance using EMPIRICAL\n",
      "Done.\n",
      "Estimating class=8 covariance using EMPIRICAL\n",
      "Done.\n"
     ]
    }
   ],
   "source": [
    "X_data = []\n",
    "y = []\n",
    "for subject in [1,2,3]:\n",
    "    X_data.append(format_for_jacob(subject)[0])\n",
    "    y.append(format_for_jacob(subject)[1])"
   ]
  },
  {
   "cell_type": "code",
   "execution_count": 72,
   "metadata": {},
   "outputs": [
    {
     "data": {
      "text/plain": [
       "(3, 144, 6)"
      ]
     },
     "execution_count": 72,
     "metadata": {},
     "output_type": "execute_result"
    }
   ],
   "source": [
    "np.array(X_data).shape"
   ]
  },
  {
   "cell_type": "code",
   "execution_count": 74,
   "metadata": {},
   "outputs": [
    {
     "data": {
      "text/plain": [
       "array([[7., 7., 7., 7., 7., 7., 7., 7., 7., 7., 7., 7., 7., 7., 7., 7.,\n",
       "        7., 7., 7., 7., 7., 7., 7., 7., 7., 7., 7., 7., 7., 7., 7., 7.,\n",
       "        7., 7., 7., 7., 7., 7., 7., 7., 7., 7., 7., 7., 7., 7., 7., 7.,\n",
       "        7., 7., 7., 7., 7., 7., 7., 7., 7., 7., 7., 7., 7., 7., 7., 7.,\n",
       "        7., 7., 7., 7., 7., 7., 7., 7., 8., 8., 8., 8., 8., 8., 8., 8.,\n",
       "        8., 8., 8., 8., 8., 8., 8., 8., 8., 8., 8., 8., 8., 8., 8., 8.,\n",
       "        8., 8., 8., 8., 8., 8., 8., 8., 8., 8., 8., 8., 8., 8., 8., 8.,\n",
       "        8., 8., 8., 8., 8., 8., 8., 8., 8., 8., 8., 8., 8., 8., 8., 8.,\n",
       "        8., 8., 8., 8., 8., 8., 8., 8., 8., 8., 8., 8., 8., 8., 8., 8.],\n",
       "       [7., 7., 7., 7., 7., 7., 7., 7., 7., 7., 7., 7., 7., 7., 7., 7.,\n",
       "        7., 7., 7., 7., 7., 7., 7., 7., 7., 7., 7., 7., 7., 7., 7., 7.,\n",
       "        7., 7., 7., 7., 7., 7., 7., 7., 7., 7., 7., 7., 7., 7., 7., 7.,\n",
       "        7., 7., 7., 7., 7., 7., 7., 7., 7., 7., 7., 7., 7., 7., 7., 7.,\n",
       "        7., 7., 7., 7., 7., 7., 7., 7., 8., 8., 8., 8., 8., 8., 8., 8.,\n",
       "        8., 8., 8., 8., 8., 8., 8., 8., 8., 8., 8., 8., 8., 8., 8., 8.,\n",
       "        8., 8., 8., 8., 8., 8., 8., 8., 8., 8., 8., 8., 8., 8., 8., 8.,\n",
       "        8., 8., 8., 8., 8., 8., 8., 8., 8., 8., 8., 8., 8., 8., 8., 8.,\n",
       "        8., 8., 8., 8., 8., 8., 8., 8., 8., 8., 8., 8., 8., 8., 8., 8.],\n",
       "       [7., 7., 7., 7., 7., 7., 7., 7., 7., 7., 7., 7., 7., 7., 7., 7.,\n",
       "        7., 7., 7., 7., 7., 7., 7., 7., 7., 7., 7., 7., 7., 7., 7., 7.,\n",
       "        7., 7., 7., 7., 7., 7., 7., 7., 7., 7., 7., 7., 7., 7., 7., 7.,\n",
       "        7., 7., 7., 7., 7., 7., 7., 7., 7., 7., 7., 7., 7., 7., 7., 7.,\n",
       "        7., 7., 7., 7., 7., 7., 7., 7., 8., 8., 8., 8., 8., 8., 8., 8.,\n",
       "        8., 8., 8., 8., 8., 8., 8., 8., 8., 8., 8., 8., 8., 8., 8., 8.,\n",
       "        8., 8., 8., 8., 8., 8., 8., 8., 8., 8., 8., 8., 8., 8., 8., 8.,\n",
       "        8., 8., 8., 8., 8., 8., 8., 8., 8., 8., 8., 8., 8., 8., 8., 8.,\n",
       "        8., 8., 8., 8., 8., 8., 8., 8., 8., 8., 8., 8., 8., 8., 8., 8.]])"
      ]
     },
     "execution_count": 74,
     "metadata": {},
     "output_type": "execute_result"
    }
   ],
   "source": [
    "np.array(y)"
   ]
  },
  {
   "cell_type": "code",
   "execution_count": 15,
   "metadata": {},
   "outputs": [],
   "source": [
    "clf = LinearDiscriminantAnalysis()"
   ]
  },
  {
   "cell_type": "code",
   "execution_count": 16,
   "metadata": {},
   "outputs": [],
   "source": [
    "from eeg_env_agent_test import EEGFeatureEnv\n",
    "\n",
    "env = EEGFeatureEnv(X_train=X_data[0], y_train=y[0],other_subjects_X=X_data[1:], other_subjects_y=y[1:], classifier=clf)"
   ]
  },
  {
   "cell_type": "code",
   "execution_count": 17,
   "metadata": {},
   "outputs": [],
   "source": [
    "from stable_baselines3 import PPO"
   ]
  },
  {
   "cell_type": "code",
   "execution_count": null,
   "metadata": {},
   "outputs": [
    {
     "name": "stdout",
     "output_type": "stream",
     "text": [
      "Using cpu device\n",
      "Wrapping the env with a `Monitor` wrapper\n",
      "Wrapping the env in a DummyVecEnv.\n"
     ]
    },
    {
     "name": "stderr",
     "output_type": "stream",
     "text": [
      "/Users/kelokomesu/anaconda3/envs/mne/lib/python3.12/site-packages/stable_baselines3/common/vec_env/patch_gym.py:49: UserWarning: You provided an OpenAI Gym environment. We strongly recommend transitioning to Gymnasium environments. Stable-Baselines3 is automatically wrapping your environments in a compatibility layer, which could potentially cause issues.\n",
      "  warnings.warn(\n"
     ]
    }
   ],
   "source": [
    "model = PPO('MlpPolicy', env, \n",
    "            learning_rate=1e-4, \n",
    "            gamma=0.995,\n",
    "            gae_lambda=0.9,\n",
    "            batch_size=256,\n",
    "            clip_range=0.1,\n",
    "            verbose=1)\n",
    "model.learn(total_timesteps=5000)"
   ]
  },
  {
   "cell_type": "code",
   "execution_count": null,
   "metadata": {},
   "outputs": [],
   "source": []
  }
 ],
 "metadata": {
  "kernelspec": {
   "display_name": "mne",
   "language": "python",
   "name": "python3"
  },
  "language_info": {
   "codemirror_mode": {
    "name": "ipython",
    "version": 3
   },
   "file_extension": ".py",
   "mimetype": "text/x-python",
   "name": "python",
   "nbconvert_exporter": "python",
   "pygments_lexer": "ipython3",
   "version": "3.12.9"
  }
 },
 "nbformat": 4,
 "nbformat_minor": 2
}
